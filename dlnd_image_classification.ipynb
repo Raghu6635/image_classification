{
 "cells": [
  {
   "cell_type": "markdown",
   "metadata": {
    "collapsed": true,
    "deletable": true,
    "editable": true
   },
   "source": [
    "# Image Classification\n",
    "In this project, you'll classify images from the [CIFAR-10 dataset](https://www.cs.toronto.edu/~kriz/cifar.html).  The dataset consists of airplanes, dogs, cats, and other objects. You'll preprocess the images, then train a convolutional neural network on all the samples. The images need to be normalized and the labels need to be one-hot encoded.  You'll get to apply what you learned and build a convolutional, max pooling, dropout, and fully connected layers.  At the end, you'll get to see your neural network's predictions on the sample images.\n",
    "## Get the Data\n",
    "Run the following cell to download the [CIFAR-10 dataset for python](https://www.cs.toronto.edu/~kriz/cifar-10-python.tar.gz)."
   ]
  },
  {
   "cell_type": "code",
   "execution_count": 15,
   "metadata": {
    "collapsed": false,
    "deletable": true,
    "editable": true
   },
   "outputs": [
    {
     "name": "stdout",
     "output_type": "stream",
     "text": [
      "All files found!\n"
     ]
    }
   ],
   "source": [
    "\"\"\"\n",
    "DON'T MODIFY ANYTHING IN THIS CELL THAT IS BELOW THIS LINE\n",
    "\"\"\"\n",
    "from urllib.request import urlretrieve\n",
    "from os.path import isfile, isdir\n",
    "from tqdm import tqdm\n",
    "import problem_unittests as tests\n",
    "import tarfile\n",
    "\n",
    "cifar10_dataset_folder_path = 'cifar-10-batches-py'\n",
    "\n",
    "class DLProgress(tqdm):\n",
    "    last_block = 0\n",
    "\n",
    "    def hook(self, block_num=1, block_size=1, total_size=None):\n",
    "        self.total = total_size\n",
    "        self.update((block_num - self.last_block) * block_size)\n",
    "        self.last_block = block_num\n",
    "\n",
    "if not isfile('cifar-10-python.tar.gz'):\n",
    "    with DLProgress(unit='B', unit_scale=True, miniters=1, desc='CIFAR-10 Dataset') as pbar:\n",
    "        urlretrieve(\n",
    "            'https://www.cs.toronto.edu/~kriz/cifar-10-python.tar.gz',\n",
    "            'cifar-10-python.tar.gz',\n",
    "            pbar.hook)\n",
    "\n",
    "if not isdir(cifar10_dataset_folder_path):\n",
    "    with tarfile.open('cifar-10-python.tar.gz') as tar:\n",
    "        tar.extractall()\n",
    "        tar.close()\n",
    "\n",
    "\n",
    "tests.test_folder_path(cifar10_dataset_folder_path)"
   ]
  },
  {
   "cell_type": "markdown",
   "metadata": {
    "deletable": true,
    "editable": true
   },
   "source": [
    "## Explore the Data\n",
    "The dataset is broken into batches to prevent your machine from running out of memory.  The CIFAR-10 dataset consists of 5 batches, named `data_batch_1`, `data_batch_2`, etc.. Each batch contains the labels and images that are one of the following:\n",
    "* airplane\n",
    "* automobile\n",
    "* bird\n",
    "* cat\n",
    "* deer\n",
    "* dog\n",
    "* frog\n",
    "* horse\n",
    "* ship\n",
    "* truck\n",
    "\n",
    "Understanding a dataset is part of making predictions on the data.  Play around with the code cell below by changing the `batch_id` and `sample_id`. The `batch_id` is the id for a batch (1-5). The `sample_id` is the id for a image and label pair in the batch.\n",
    "\n",
    "Ask yourself \"What are all possible labels?\", \"What is the range of values for the image data?\", \"Are the labels in order or random?\".  Answers to questions like these will help you preprocess the data and end up with better predictions."
   ]
  },
  {
   "cell_type": "code",
   "execution_count": 17,
   "metadata": {
    "collapsed": false,
    "deletable": true,
    "editable": true
   },
   "outputs": [
    {
     "name": "stdout",
     "output_type": "stream",
     "text": [
      "\n",
      "Stats of batch 1:\n",
      "Samples: 10000\n",
      "Label Counts: {0: 1005, 1: 974, 2: 1032, 3: 1016, 4: 999, 5: 937, 6: 1030, 7: 1001, 8: 1025, 9: 981}\n",
      "First 20 Labels: [6, 9, 9, 4, 1, 1, 2, 7, 8, 3, 4, 7, 7, 2, 9, 9, 9, 3, 2, 6]\n",
      "\n",
      "Example of Image 7:\n",
      "Image - Min Value: 9 Max Value: 248\n",
      "Image - Shape: (32, 32, 3)\n",
      "Label - Label Id: 7 Name: horse\n"
     ]
    },
    {
     "data": {
      "image/png": "[encoded data removed]",
      "text/plain": [
       "<matplotlib.figure.Figure at 0x7f9299999a58>"
      ]
     },
     "metadata": {
      "image/png": {
       "height": 250,
       "width": 253
      }
     },
     "output_type": "display_data"
    }
   ],
   "source": [
    "%matplotlib inline\n",
    "%config InlineBackend.figure_format = 'retina'\n",
    "\n",
    "import helper\n",
    "import numpy as np\n",
    "\n",
    "# Explore the dataset\n",
    "batch_id = 1\n",
    "sample_id = 7\n",
    "helper.display_stats(cifar10_dataset_folder_path, batch_id, sample_id)"
   ]
  },
  {
   "cell_type": "markdown",
   "metadata": {
    "deletable": true,
    "editable": true
   },
   "source": [
    "## Implement Preprocess Functions\n",
    "### Normalize\n",
    "In the cell below, implement the `normalize` function to take in image data, `x`, and return it as a normalized Numpy array. The values should be in the range of 0 to 1, inclusive.  The return object should be the same shape as `x`."
   ]
  },
  {
   "cell_type": "code",
   "execution_count": 80,
   "metadata": {
    "collapsed": false,
    "deletable": true,
    "editable": true
   },
   "outputs": [
    {
     "name": "stdout",
     "output_type": "stream",
     "text": [
      "Tests Passed\n"
     ]
    }
   ],
   "source": [
    "def normalize(x):\n",
    "    \"\"\"\n",
    "    Normalize a list of sample image data in the range of 0 to 1\n",
    "    : x: List of image data.  The image shape is (32, 32, 3)\n",
    "    : return: Numpy array of normalize data\n",
    "    \"\"\"\n",
    "    # TODO: Implement Function\n",
    "    return np.array(x/255)\n",
    "\n",
    "\n",
    "\"\"\"\n",
    "DON'T MODIFY ANYTHING IN THIS CELL THAT IS BELOW THIS LINE\n",
    "\"\"\"\n",
    "tests.test_normalize(normalize)"
   ]
  },
  {
   "cell_type": "markdown",
   "metadata": {
    "deletable": true,
    "editable": true
   },
   "source": [
    "### One-hot encode\n",
    "Just like the previous code cell, you'll be implementing a function for preprocessing.  This time, you'll implement the `one_hot_encode` function. The input, `x`, are a list of labels.  Implement the function to return the list of labels as One-Hot encoded Numpy array.  The possible values for labels are 0 to 9. The one-hot encoding function should return the same encoding for each value between each call to `one_hot_encode`.  Make sure to save the map of encodings outside the function.\n",
    "\n",
    "Hint: Don't reinvent the wheel."
   ]
  },
  {
   "cell_type": "code",
   "execution_count": 81,
   "metadata": {
    "collapsed": false,
    "deletable": true,
    "editable": true
   },
   "outputs": [
    {
     "name": "stdout",
     "output_type": "stream",
     "text": [
      "Tests Passed\n"
     ]
    }
   ],
   "source": [
    "from sklearn import preprocessing\n",
    "\n",
    "labels = np.array([0,1,2,3,4,5,6,7,8,9])\n",
    "lb = preprocessing.LabelBinarizer() \n",
    "lb.fit(labels)\n",
    "\n",
    "def one_hot_encode(x):\n",
    "    \"\"\"\n",
    "    One hot encode a list of sample labels. Return a one-hot encoded vector for each label.\n",
    "    : x: List of sample Labels\n",
    "    : return: Numpy array of one-hot encoded labels\n",
    "    \"\"\"\n",
    "    # TODO: Implement Function\n",
    "    return lb.transform(x)\n",
    "\n",
    "\n",
    "\"\"\"\n",
    "DON'T MODIFY ANYTHING IN THIS CELL THAT IS BELOW THIS LINE\n",
    "\"\"\"\n",
    "tests.test_one_hot_encode(one_hot_encode)"
   ]
  },
  {
   "cell_type": "markdown",
   "metadata": {
    "deletable": true,
    "editable": true
   },
   "source": [
    "### Randomize Data\n",
    "As you saw from exploring the data above, the order of the samples are randomized.  It doesn't hurt to randomize it again, but you don't need to for this dataset."
   ]
  },
  {
   "cell_type": "markdown",
   "metadata": {
    "deletable": true,
    "editable": true
   },
   "source": [
    "## Preprocess all the data and save it\n",
    "Running the code cell below will preprocess all the CIFAR-10 data and save it to file. The code below also uses 10% of the training data for validation."
   ]
  },
  {
   "cell_type": "code",
   "execution_count": 82,
   "metadata": {
    "collapsed": false,
    "deletable": true,
    "editable": true
   },
   "outputs": [],
   "source": [
    "\"\"\"\n",
    "DON'T MODIFY ANYTHING IN THIS CELL\n",
    "\"\"\"\n",
    "# Preprocess Training, Validation, and Testing Data\n",
    "helper.preprocess_and_save_data(cifar10_dataset_folder_path, normalize, one_hot_encode)"
   ]
  },
  {
   "cell_type": "markdown",
   "metadata": {
    "deletable": true,
    "editable": true
   },
   "source": [
    "# Check Point\n",
    "This is your first checkpoint.  If you ever decide to come back to this notebook or have to restart the notebook, you can start from here.  The preprocessed data has been saved to disk."
   ]
  },
  {
   "cell_type": "code",
   "execution_count": 83,
   "metadata": {
    "collapsed": true,
    "deletable": true,
    "editable": true
   },
   "outputs": [],
   "source": [
    "\"\"\"\n",
    "DON'T MODIFY ANYTHING IN THIS CELL\n",
    "\"\"\"\n",
    "import pickle\n",
    "import problem_unittests as tests\n",
    "import helper\n",
    "\n",
    "# Load the Preprocessed Validation data\n",
    "valid_features, valid_labels = pickle.load(open('preprocess_validation.p', mode='rb'))"
   ]
  },
  {
   "cell_type": "markdown",
   "metadata": {
    "deletable": true,
    "editable": true
   },
   "source": [
    "## Build the network\n",
    "For the neural network, you'll build each layer into a function.  Most of the code you've seen has been outside of functions. To test your code more thoroughly, we require that you put each layer in a function.  This allows us to give you better feedback and test for simple mistakes using our unittests before you submit your project.\n",
    "\n",
    ">**Note:** If you're finding it hard to dedicate enough time for this course each week, we've provided a small shortcut to this part of the project. In the next couple of problems, you'll have the option to use classes from the [TensorFlow Layers](https://www.tensorflow.org/api_docs/python/tf/layers) or [TensorFlow Layers (contrib)](https://www.tensorflow.org/api_guides/python/contrib.layers) packages to build each layer, except the layers you build in the \"Convolutional and Max Pooling Layer\" section.  TF Layers is similar to Keras's and TFLearn's abstraction to layers, so it's easy to pickup.\n",
    "\n",
    ">However, if you would like to get the most out of this course, try to solve all the problems _without_ using anything from the TF Layers packages. You **can** still use classes from other packages that happen to have the same name as ones you find in TF Layers! For example, instead of using the TF Layers version of the `conv2d` class, [tf.layers.conv2d](https://www.tensorflow.org/api_docs/python/tf/layers/conv2d), you would want to use the TF Neural Network version of `conv2d`, [tf.nn.conv2d](https://www.tensorflow.org/api_docs/python/tf/nn/conv2d). \n",
    "\n",
    "Let's begin!\n",
    "\n",
    "### Input\n",
    "The neural network needs to read the image data, one-hot encoded labels, and dropout keep probability. Implement the following functions\n",
    "* Implement `neural_net_image_input`\n",
    " * Return a [TF Placeholder](https://www.tensorflow.org/api_docs/python/tf/placeholder)\n",
    " * Set the shape using `image_shape` with batch size set to `None`.\n",
    " * Name the TensorFlow placeholder \"x\" using the TensorFlow `name` parameter in the [TF Placeholder](https://www.tensorflow.org/api_docs/python/tf/placeholder).\n",
    "* Implement `neural_net_label_input`\n",
    " * Return a [TF Placeholder](https://www.tensorflow.org/api_docs/python/tf/placeholder)\n",
    " * Set the shape using `n_classes` with batch size set to `None`.\n",
    " * Name the TensorFlow placeholder \"y\" using the TensorFlow `name` parameter in the [TF Placeholder](https://www.tensorflow.org/api_docs/python/tf/placeholder).\n",
    "* Implement `neural_net_keep_prob_input`\n",
    " * Return a [TF Placeholder](https://www.tensorflow.org/api_docs/python/tf/placeholder) for dropout keep probability.\n",
    " * Name the TensorFlow placeholder \"keep_prob\" using the TensorFlow `name` parameter in the [TF Placeholder](https://www.tensorflow.org/api_docs/python/tf/placeholder).\n",
    "\n",
    "These names will be used at the end of the project to load your saved model.\n",
    "\n",
    "Note: `None` for shapes in TensorFlow allow for a dynamic size."
   ]
  },
  {
   "cell_type": "code",
   "execution_count": 84,
   "metadata": {
    "collapsed": false,
    "deletable": true,
    "editable": true
   },
   "outputs": [
    {
     "name": "stdout",
     "output_type": "stream",
     "text": [
      "Image Input Tests Passed.\n",
      "Label Input Tests Passed.\n",
      "Keep Prob Tests Passed.\n"
     ]
    }
   ],
   "source": [
    "import tensorflow as tf\n",
    "\n",
    "def neural_net_image_input(image_shape):\n",
    "    \"\"\"\n",
    "    Return a Tensor for a batch of image input\n",
    "    : image_shape: Shape of the images\n",
    "    : return: Tensor for image input.\n",
    "    \"\"\"\n",
    "    # TODO: Implement Function\n",
    "    return tf.placeholder(tf.float32, [None, *image_shape], name='x')\n",
    "\n",
    "\n",
    "def neural_net_label_input(n_classes):\n",
    "    \"\"\"\n",
    "    Return a Tensor for a batch of label input\n",
    "    : n_classes: Number of classes\n",
    "    : return: Tensor for label input.\n",
    "    \"\"\"\n",
    "    # TODO: Implement Function\n",
    "    return tf.placeholder(tf.float32, [None, n_classes], name='y')\n",
    "\n",
    "\n",
    "def neural_net_keep_prob_input():\n",
    "    \"\"\"\n",
    "    Return a Tensor for keep probability\n",
    "    : return: Tensor for keep probability.\n",
    "    \"\"\"\n",
    "    # TODO: Implement Function\n",
    "    return tf.placeholder(tf.float32, name='keep_prob')\n",
    "\n",
    "\n",
    "\"\"\"\n",
    "DON'T MODIFY ANYTHING IN THIS CELL THAT IS BELOW THIS LINE\n",
    "\"\"\"\n",
    "tf.reset_default_graph()\n",
    "tests.test_nn_image_inputs(neural_net_image_input)\n",
    "tests.test_nn_label_inputs(neural_net_label_input)\n",
    "tests.test_nn_keep_prob_inputs(neural_net_keep_prob_input)"
   ]
  },
  {
   "cell_type": "markdown",
   "metadata": {
    "deletable": true,
    "editable": true
   },
   "source": [
    "### Convolution and Max Pooling Layer\n",
    "Convolution layers have a lot of success with images. For this code cell, you should implement the function `conv2d_maxpool` to apply convolution then max pooling:\n",
    "* Create the weight and bias using `conv_ksize`, `conv_num_outputs` and the shape of `x_tensor`.\n",
    "* Apply a convolution to `x_tensor` using weight and `conv_strides`.\n",
    " * We recommend you use same padding, but you're welcome to use any padding.\n",
    "* Add bias\n",
    "* Add a nonlinear activation to the convolution.\n",
    "* Apply Max Pooling using `pool_ksize` and `pool_strides`.\n",
    " * We recommend you use same padding, but you're welcome to use any padding.\n",
    "\n",
    "**Note:** You **can't** use [TensorFlow Layers](https://www.tensorflow.org/api_docs/python/tf/layers) or [TensorFlow Layers (contrib)](https://www.tensorflow.org/api_guides/python/contrib.layers) for **this** layer, but you can still use TensorFlow's [Neural Network](https://www.tensorflow.org/api_docs/python/tf/nn) package. You may still use the shortcut option for all the **other** layers."
   ]
  },
  {
   "cell_type": "code",
   "execution_count": 85,
   "metadata": {
    "collapsed": false,
    "deletable": true,
    "editable": true
   },
   "outputs": [
    {
     "name": "stdout",
     "output_type": "stream",
     "text": [
      "Tests Passed\n"
     ]
    }
   ],
   "source": [
    "def conv2d_maxpool(x_tensor, conv_num_outputs, conv_ksize, conv_strides, pool_ksize, pool_strides):\n",
    "    \"\"\"\n",
    "    Apply convolution then max pooling to x_tensor\n",
    "    :param x_tensor: TensorFlow Tensor\n",
    "    :param conv_num_outputs: Number of outputs for the convolutional layer\n",
    "    :param conv_ksize: kernal size 2-D Tuple for the convolutional layer\n",
    "    :param conv_strides: Stride 2-D Tuple for convolution\n",
    "    :param pool_ksize: kernal size 2-D Tuple for pool\n",
    "    :param pool_strides: Stride 2-D Tuple for pool\n",
    "    : return: A tensor that represents convolution and max pooling of x_tensor\n",
    "    \"\"\"\n",
    "    # TODO: Implement Function\n",
    "    x_shape = x_tensor.get_shape().as_list()\n",
    "    \n",
    "    w = tf.Variable(tf.truncated_normal([*conv_ksize, x_shape[3], conv_num_outputs], mean=0.0, stddev = 0.01))\n",
    "    b = tf.Variable(tf.zeros([conv_num_outputs]))\n",
    "    \n",
    "    conv_strides = [1, *conv_strides, 1]\n",
    "    pool_ksize = [1, *pool_ksize, 1]\n",
    "    pool_strides = [1, *pool_strides, 1]\n",
    "    \n",
    "    conv_layer = tf.nn.conv2d(x_tensor, w, conv_strides, padding='SAME')\n",
    "    conv_layer = tf.nn.bias_add(conv_layer, b)\n",
    "    conv_layer = tf.nn.relu(conv_layer)\n",
    "    conv2d_maxpool = tf.nn.max_pool(conv_layer, pool_ksize, pool_strides, padding='SAME')\n",
    "        \n",
    "    return  conv2d_maxpool\n",
    "\n",
    "\n",
    "\"\"\"\n",
    "DON'T MODIFY ANYTHING IN THIS CELL THAT IS BELOW THIS LINE\n",
    "\"\"\"\n",
    "tests.test_con_pool(conv2d_maxpool)"
   ]
  },
  {
   "cell_type": "markdown",
   "metadata": {
    "deletable": true,
    "editable": true
   },
   "source": [
    "### Flatten Layer\n",
    "Implement the `flatten` function to change the dimension of `x_tensor` from a 4-D tensor to a 2-D tensor.  The output should be the shape (*Batch Size*, *Flattened Image Size*). Shortcut option: you can use classes from the [TensorFlow Layers](https://www.tensorflow.org/api_docs/python/tf/layers) or [TensorFlow Layers (contrib)](https://www.tensorflow.org/api_guides/python/contrib.layers) packages for this layer. For more of a challenge, only use other TensorFlow packages."
   ]
  },
  {
   "cell_type": "code",
   "execution_count": 86,
   "metadata": {
    "collapsed": false,
    "deletable": true,
    "editable": true
   },
   "outputs": [
    {
     "name": "stdout",
     "output_type": "stream",
     "text": [
      "Tests Passed\n"
     ]
    }
   ],
   "source": [
    "def flatten(x_tensor):\n",
    "    \"\"\"\n",
    "    Flatten x_tensor to (Batch Size, Flattened Image Size)\n",
    "    : x_tensor: A tensor of size (Batch Size, ...), where ... are the image dimensions.\n",
    "    : return: A tensor of size (Batch Size, Flattened Image Size).\n",
    "    \"\"\"\n",
    "    # TODO: Implement Function\n",
    "    return tf.contrib.layers.flatten(x_tensor)\n",
    "\n",
    "\n",
    "\"\"\"\n",
    "DON'T MODIFY ANYTHING IN THIS CELL THAT IS BELOW THIS LINE\n",
    "\"\"\"\n",
    "tests.test_flatten(flatten)"
   ]
  },
  {
   "cell_type": "markdown",
   "metadata": {
    "deletable": true,
    "editable": true
   },
   "source": [
    "### Fully-Connected Layer\n",
    "Implement the `fully_conn` function to apply a fully connected layer to `x_tensor` with the shape (*Batch Size*, *num_outputs*). Shortcut option: you can use classes from the [TensorFlow Layers](https://www.tensorflow.org/api_docs/python/tf/layers) or [TensorFlow Layers (contrib)](https://www.tensorflow.org/api_guides/python/contrib.layers) packages for this layer. For more of a challenge, only use other TensorFlow packages."
   ]
  },
  {
   "cell_type": "code",
   "execution_count": 87,
   "metadata": {
    "collapsed": false,
    "deletable": true,
    "editable": true
   },
   "outputs": [
    {
     "name": "stdout",
     "output_type": "stream",
     "text": [
      "Tests Passed\n"
     ]
    }
   ],
   "source": [
    "def fully_conn(x_tensor, num_outputs):\n",
    "    \"\"\"\n",
    "    Apply a fully connected layer to x_tensor using weight and bias\n",
    "    : x_tensor: A 2-D tensor where the first dimension is batch size.\n",
    "    : num_outputs: The number of output that the new tensor should be.\n",
    "    : return: A 2-D tensor where the second dimension is num_outputs.\n",
    "    \"\"\"\n",
    "    # TODO: Implement Function\n",
    "    n_out = x_tensor.get_shape().as_list()\n",
    "    w = tf.Variable(tf.truncated_normal([n_out[1], num_outputs], mean = 0, stddev=0.01))\n",
    "    b = tf.Variable(tf.zeros([num_outputs]))\n",
    "    \n",
    "    return tf.nn.relu(tf.add(tf.matmul(x_tensor, w), b))\n",
    "\n",
    "\n",
    "\"\"\"\n",
    "DON'T MODIFY ANYTHING IN THIS CELL THAT IS BELOW THIS LINE\n",
    "\"\"\"\n",
    "tests.test_fully_conn(fully_conn)"
   ]
  },
  {
   "cell_type": "markdown",
   "metadata": {
    "deletable": true,
    "editable": true
   },
   "source": [
    "### Output Layer\n",
    "Implement the `output` function to apply a fully connected layer to `x_tensor` with the shape (*Batch Size*, *num_outputs*). Shortcut option: you can use classes from the [TensorFlow Layers](https://www.tensorflow.org/api_docs/python/tf/layers) or [TensorFlow Layers (contrib)](https://www.tensorflow.org/api_guides/python/contrib.layers) packages for this layer. For more of a challenge, only use other TensorFlow packages.\n",
    "\n",
    "**Note:** Activation, softmax, or cross entropy should **not** be applied to this."
   ]
  },
  {
   "cell_type": "code",
   "execution_count": 88,
   "metadata": {
    "collapsed": false,
    "deletable": true,
    "editable": true
   },
   "outputs": [
    {
     "name": "stdout",
     "output_type": "stream",
     "text": [
      "Tests Passed\n"
     ]
    }
   ],
   "source": [
    "def output(x_tensor, num_outputs):\n",
    "    \"\"\"\n",
    "    Apply a output layer to x_tensor using weight and bias\n",
    "    : x_tensor: A 2-D tensor where the first dimension is batch size.\n",
    "    : num_outputs: The number of output that the new tensor should be.\n",
    "    : return: A 2-D tensor where the second dimension is num_outputs.\n",
    "    \"\"\"\n",
    "    # TODO: Implement Function\n",
    "    n_out = x_tensor.get_shape().as_list()[1]\n",
    "    w = tf.Variable(tf.truncated_normal([n_out, num_outputs], mean=0, stddev = 0.01))\n",
    "    b = tf.Variable(tf.zeros(num_outputs))\n",
    "    \n",
    "    return tf.add(tf.matmul(x_tensor, w), b)\n",
    "\n",
    "\n",
    "\"\"\"\n",
    "DON'T MODIFY ANYTHING IN THIS CELL THAT IS BELOW THIS LINE\n",
    "\"\"\"\n",
    "tests.test_output(output)"
   ]
  },
  {
   "cell_type": "markdown",
   "metadata": {
    "deletable": true,
    "editable": true
   },
   "source": [
    "### Create Convolutional Model\n",
    "Implement the function `conv_net` to create a convolutional neural network model. The function takes in a batch of images, `x`, and outputs logits.  Use the layers you created above to create this model:\n",
    "\n",
    "* Apply 1, 2, or 3 Convolution and Max Pool layers\n",
    "* Apply a Flatten Layer\n",
    "* Apply 1, 2, or 3 Fully Connected Layers\n",
    "* Apply an Output Layer\n",
    "* Return the output\n",
    "* Apply [TensorFlow's Dropout](https://www.tensorflow.org/api_docs/python/tf/nn/dropout) to one or more layers in the model using `keep_prob`. "
   ]
  },
  {
   "cell_type": "code",
   "execution_count": 114,
   "metadata": {
    "collapsed": false,
    "deletable": true,
    "editable": true
   },
   "outputs": [
    {
     "name": "stdout",
     "output_type": "stream",
     "text": [
      "Neural Network Built!\n"
     ]
    }
   ],
   "source": [
    "def conv_net(x, keep_prob):\n",
    "    \"\"\"\n",
    "    Create a convolutional neural network model\n",
    "    : x: Placeholder tensor that holds image data.\n",
    "    : keep_prob: Placeholder tensor that hold dropout keep probability.\n",
    "    : return: Tensor that represents logits\n",
    "    \"\"\"\n",
    "    # TODO: Apply 1, 2, or 3 Convolution and Max Pool layers\n",
    "    #    Play around with different number of outputs, kernel size and stride\n",
    "    # Function Definition from Above:\n",
    "    #    conv2d_maxpool(x_tensor, conv_num_outputs, conv_ksize, conv_strides, pool_ksize, pool_strides)\n",
    "    net_1 = conv2d_maxpool(x, 8, (3, 3), (1, 1), (2, 2), (2, 2)) # 8*8*16 neurons\n",
    "    net_2 = conv2d_maxpool(net_1, 16, (3, 3), (1, 1), (2, 2), (2, 2)) # 4*4*32 neurons\n",
    "    #net_3 = conv2d_maxpool(net_2, 64, (3, 3), (1, 1), (2, 2), (2, 2))\n",
    "\n",
    "    # TODO: Apply a Flatten Layer\n",
    "    # Function Definition from Above:\n",
    "    #   flatten(x_tensor)\n",
    "    net_4 = flatten(net_2) # 1600 neurons\n",
    "    \n",
    "\n",
    "    # TODO: Apply 1, 2, or 3 Fully Connected Layers\n",
    "    #    Play around with different number of outputs\n",
    "    # Function Definition from Above:\n",
    "    #   fully_conn(x_tensor, num_outputs)\n",
    "    net_5 = tf.nn.dropout(fully_conn(net_4, 256), keep_prob) \n",
    "    #net_6 = tf.nn.dropout(fully_conn(net_5, 256), keep_prob) \n",
    "        \n",
    "    \n",
    "    # TODO: Apply an Output Layer\n",
    "    #    Set this to the number of classes\n",
    "    # Function Definition from Above:\n",
    "    #   output(x_tensor, num_outputs)\n",
    "    net_7 = output(net_5, 10)\n",
    "    \n",
    "    \n",
    "    # TODO: return output\n",
    "    return net_7\n",
    "\n",
    "\n",
    "\"\"\"\n",
    "DON'T MODIFY ANYTHING IN THIS CELL THAT IS BELOW THIS LINE\n",
    "\"\"\"\n",
    "\n",
    "##############################\n",
    "## Build the Neural Network ##\n",
    "##############################\n",
    "\n",
    "# Remove previous weights, bias, inputs, etc..\n",
    "tf.reset_default_graph()\n",
    "\n",
    "# Inputs\n",
    "x = neural_net_image_input((32, 32, 3))\n",
    "y = neural_net_label_input(10)\n",
    "keep_prob = neural_net_keep_prob_input()\n",
    "\n",
    "# Model\n",
    "logits = conv_net(x, keep_prob)\n",
    "\n",
    "# Name logits Tensor, so that is can be loaded from disk after training\n",
    "logits = tf.identity(logits, name='logits')\n",
    "\n",
    "# Loss and Optimizer\n",
    "cost = tf.reduce_mean(tf.nn.softmax_cross_entropy_with_logits(logits=logits, labels=y))\n",
    "optimizer = tf.train.AdamOptimizer().minimize(cost)\n",
    "\n",
    "# Accuracy\n",
    "correct_pred = tf.equal(tf.argmax(logits, 1), tf.argmax(y, 1))\n",
    "accuracy = tf.reduce_mean(tf.cast(correct_pred, tf.float32), name='accuracy')\n",
    "\n",
    "tests.test_conv_net(conv_net)"
   ]
  },
  {
   "cell_type": "markdown",
   "metadata": {
    "deletable": true,
    "editable": true
   },
   "source": [
    "## Train the Neural Network\n",
    "### Single Optimization\n",
    "Implement the function `train_neural_network` to do a single optimization.  The optimization should use `optimizer` to optimize in `session` with a `feed_dict` of the following:\n",
    "* `x` for image input\n",
    "* `y` for labels\n",
    "* `keep_prob` for keep probability for dropout\n",
    "\n",
    "This function will be called for each batch, so `tf.global_variables_initializer()` has already been called.\n",
    "\n",
    "Note: Nothing needs to be returned. This function is only optimizing the neural network."
   ]
  },
  {
   "cell_type": "code",
   "execution_count": 115,
   "metadata": {
    "collapsed": false,
    "deletable": true,
    "editable": true
   },
   "outputs": [
    {
     "name": "stdout",
     "output_type": "stream",
     "text": [
      "Tests Passed\n"
     ]
    }
   ],
   "source": [
    "def train_neural_network(session, optimizer, keep_probability, feature_batch, label_batch):\n",
    "    \"\"\"\n",
    "    Optimize the session on a batch of images and labels\n",
    "    : session: Current TensorFlow session\n",
    "    : optimizer: TensorFlow optimizer function\n",
    "    : keep_probability: keep probability\n",
    "    : feature_batch: Batch of Numpy image data\n",
    "    : label_batch: Batch of Numpy label data\n",
    "    \"\"\"\n",
    "    # TODO: Implement Function\n",
    "    session.run(optimizer, feed_dict = {x:feature_batch, y:label_batch, keep_prob:keep_probability})\n",
    "\n",
    "\n",
    "\"\"\"\n",
    "DON'T MODIFY ANYTHING IN THIS CELL THAT IS BELOW THIS LINE\n",
    "\"\"\"\n",
    "tests.test_train_nn(train_neural_network)"
   ]
  },
  {
   "cell_type": "markdown",
   "metadata": {
    "deletable": true,
    "editable": true
   },
   "source": [
    "### Show Stats\n",
    "Implement the function `print_stats` to print loss and validation accuracy.  Use the global variables `valid_features` and `valid_labels` to calculate validation accuracy.  Use a keep probability of `1.0` to calculate the loss and validation accuracy."
   ]
  },
  {
   "cell_type": "code",
   "execution_count": 116,
   "metadata": {
    "collapsed": false,
    "deletable": true,
    "editable": true
   },
   "outputs": [],
   "source": [
    "def print_stats(session, feature_batch, label_batch, cost, accuracy):\n",
    "    \"\"\"\n",
    "    Print information about loss and validation accuracy\n",
    "    : session: Current TensorFlow session\n",
    "    : feature_batch: Batch of Numpy image data\n",
    "    : label_batch: Batch of Numpy label data\n",
    "    : cost: TensorFlow cost function\n",
    "    : accuracy: TensorFlow accuracy function\n",
    "    \"\"\"\n",
    "    # TODO: Implement Function\n",
    "    loss = session.run(cost, feed_dict={x: feature_batch, y: label_batch, keep_prob: 1.0})\n",
    "    valid_acc = session.run(accuracy, feed_dict={x: valid_features, y: valid_labels, keep_prob: 1.0})\n",
    "    \n",
    "    print(\"Loss: \", loss)\n",
    "    print(\"Accuracy: \", valid_acc)"
   ]
  },
  {
   "cell_type": "markdown",
   "metadata": {
    "deletable": true,
    "editable": true
   },
   "source": [
    "### Hyperparameters\n",
    "Tune the following parameters:\n",
    "* Set `epochs` to the number of iterations until the network stops learning or start overfitting\n",
    "* Set `batch_size` to the highest number that your machine has memory for.  Most people set them to common sizes of memory:\n",
    " * 64\n",
    " * 128\n",
    " * 256\n",
    " * ...\n",
    "* Set `keep_probability` to the probability of keeping a node using dropout"
   ]
  },
  {
   "cell_type": "code",
   "execution_count": 117,
   "metadata": {
    "collapsed": true,
    "deletable": true,
    "editable": true
   },
   "outputs": [],
   "source": [
    "# TODO: Tune Parameters\n",
    "epochs = 30\n",
    "batch_size = 64\n",
    "keep_probability = 0.75"
   ]
  },
  {
   "cell_type": "markdown",
   "metadata": {
    "deletable": true,
    "editable": true
   },
   "source": [
    "### Train on a Single CIFAR-10 Batch\n",
    "Instead of training the neural network on all the CIFAR-10 batches of data, let's use a single batch. This should save time while you iterate on the model to get a better accuracy.  Once the final validation accuracy is 50% or greater, run the model on all the data in the next section."
   ]
  },
  {
   "cell_type": "code",
   "execution_count": 118,
   "metadata": {
    "collapsed": false,
    "deletable": true,
    "editable": true
   },
   "outputs": [
    {
     "name": "stdout",
     "output_type": "stream",
     "text": [
      "Checking the Training on a Single Batch...\n",
      "Epoch  1, CIFAR-10 Batch 1:  Loss:  2.22996\n",
      "Accuracy:  0.2042\n",
      "Epoch  2, CIFAR-10 Batch 1:  Loss:  2.22564\n",
      "Accuracy:  0.268\n",
      "Epoch  3, CIFAR-10 Batch 1:  Loss:  2.21459\n",
      "Accuracy:  0.2806\n",
      "Epoch  4, CIFAR-10 Batch 1:  Loss:  2.28027\n",
      "Accuracy:  0.3044\n",
      "Epoch  5, CIFAR-10 Batch 1:  Loss:  2.22315\n",
      "Accuracy:  0.327\n",
      "Epoch  6, CIFAR-10 Batch 1:  Loss:  2.21875\n",
      "Accuracy:  0.3506\n",
      "Epoch  7, CIFAR-10 Batch 1:  Loss:  2.19213\n",
      "Accuracy:  0.3596\n",
      "Epoch  8, CIFAR-10 Batch 1:  Loss:  2.17198\n",
      "Accuracy:  0.3796\n",
      "Epoch  9, CIFAR-10 Batch 1:  Loss:  2.13744\n",
      "Accuracy:  0.396\n",
      "Epoch 10, CIFAR-10 Batch 1:  Loss:  2.15469\n",
      "Accuracy:  0.4048\n",
      "Epoch 11, CIFAR-10 Batch 1:  Loss:  2.06602\n",
      "Accuracy:  0.4206\n",
      "Epoch 12, CIFAR-10 Batch 1:  Loss:  2.00081\n",
      "Accuracy:  0.4324\n",
      "Epoch 13, CIFAR-10 Batch 1:  Loss:  1.95069\n",
      "Accuracy:  0.4434\n",
      "Epoch 14, CIFAR-10 Batch 1:  Loss:  1.91448\n",
      "Accuracy:  0.4518\n",
      "Epoch 15, CIFAR-10 Batch 1:  Loss:  1.80929\n",
      "Accuracy:  0.4546\n",
      "Epoch 16, CIFAR-10 Batch 1:  Loss:  1.78017\n",
      "Accuracy:  0.4544\n",
      "Epoch 17, CIFAR-10 Batch 1:  Loss:  1.75079\n",
      "Accuracy:  0.465\n",
      "Epoch 18, CIFAR-10 Batch 1:  Loss:  1.73837\n",
      "Accuracy:  0.4664\n",
      "Epoch 19, CIFAR-10 Batch 1:  Loss:  1.66873\n",
      "Accuracy:  0.4688\n",
      "Epoch 20, CIFAR-10 Batch 1:  Loss:  1.6465\n",
      "Accuracy:  0.4832\n",
      "Epoch 21, CIFAR-10 Batch 1:  Loss:  1.55525\n",
      "Accuracy:  0.4886\n",
      "Epoch 22, CIFAR-10 Batch 1:  Loss:  1.53647\n",
      "Accuracy:  0.496\n",
      "Epoch 23, CIFAR-10 Batch 1:  Loss:  1.55695\n",
      "Accuracy:  0.492\n",
      "Epoch 24, CIFAR-10 Batch 1:  Loss:  1.53881\n",
      "Accuracy:  0.5002\n",
      "Epoch 25, CIFAR-10 Batch 1:  Loss:  1.47168\n",
      "Accuracy:  0.502\n",
      "Epoch 26, CIFAR-10 Batch 1:  Loss:  1.39494\n",
      "Accuracy:  0.5054\n",
      "Epoch 27, CIFAR-10 Batch 1:  Loss:  1.41408\n",
      "Accuracy:  0.5066\n",
      "Epoch 28, CIFAR-10 Batch 1:  Loss:  1.35817\n",
      "Accuracy:  0.5062\n",
      "Epoch 29, CIFAR-10 Batch 1:  Loss:  1.29183\n",
      "Accuracy:  0.5156\n",
      "Epoch 30, CIFAR-10 Batch 1:  Loss:  1.23303\n",
      "Accuracy:  0.5158\n"
     ]
    }
   ],
   "source": [
    "\"\"\"\n",
    "DON'T MODIFY ANYTHING IN THIS CELL\n",
    "\"\"\"\n",
    "print('Checking the Training on a Single Batch...')\n",
    "with tf.Session() as sess:\n",
    "    # Initializing the variables\n",
    "    sess.run(tf.global_variables_initializer())\n",
    "    \n",
    "    # Training cycle\n",
    "    for epoch in range(epochs):\n",
    "        batch_i = 1\n",
    "        for batch_features, batch_labels in helper.load_preprocess_training_batch(batch_i, batch_size):\n",
    "            train_neural_network(sess, optimizer, keep_probability, batch_features, batch_labels)\n",
    "        print('Epoch {:>2}, CIFAR-10 Batch {}:  '.format(epoch + 1, batch_i), end='')\n",
    "        print_stats(sess, batch_features, batch_labels, cost, accuracy)"
   ]
  },
  {
   "cell_type": "markdown",
   "metadata": {
    "deletable": true,
    "editable": true
   },
   "source": [
    "\n",
    "\n",
    "..\n",
    ".\n",
    "\n",
    "\n",
    ".\n",
    "\n",
    "### Fully Train the Model\n",
    "Now that you got a good accuracy with a single CIFAR-10 batch, try it with all five batches."
   ]
  },
  {
   "cell_type": "code",
   "execution_count": 119,
   "metadata": {
    "collapsed": false,
    "deletable": true,
    "editable": true
   },
   "outputs": [
    {
     "name": "stdout",
     "output_type": "stream",
     "text": [
      "Training...\n",
      "Epoch  1, CIFAR-10 Batch 1:  Loss:  2.30022\n",
      "Accuracy:  0.228\n",
      "Epoch  1, CIFAR-10 Batch 2:  Loss:  2.05963\n",
      "Accuracy:  0.2828\n",
      "Epoch  1, CIFAR-10 Batch 3:  Loss:  1.74968\n",
      "Accuracy:  0.3152\n",
      "Epoch  1, CIFAR-10 Batch 4:  Loss:  1.77044\n",
      "Accuracy:  0.364\n",
      "Epoch  1, CIFAR-10 Batch 5:  Loss:  1.77552\n",
      "Accuracy:  0.3996\n",
      "Epoch  2, CIFAR-10 Batch 1:  Loss:  2.01192\n",
      "Accuracy:  0.419\n",
      "Epoch  2, CIFAR-10 Batch 2:  Loss:  1.78561\n",
      "Accuracy:  0.4188\n",
      "Epoch  2, CIFAR-10 Batch 3:  Loss:  1.36472\n",
      "Accuracy:  0.4298\n",
      "Epoch  2, CIFAR-10 Batch 4:  Loss:  1.55232\n",
      "Accuracy:  0.4364\n",
      "Epoch  2, CIFAR-10 Batch 5:  Loss:  1.58436\n",
      "Accuracy:  0.4514\n",
      "Epoch  3, CIFAR-10 Batch 1:  Loss:  1.89365\n",
      "Accuracy:  0.4632\n",
      "Epoch  3, CIFAR-10 Batch 2:  Loss:  1.62681\n",
      "Accuracy:  0.4636\n",
      "Epoch  3, CIFAR-10 Batch 3:  Loss:  1.20453\n",
      "Accuracy:  0.471\n",
      "Epoch  3, CIFAR-10 Batch 4:  Loss:  1.43722\n",
      "Accuracy:  0.4776\n",
      "Epoch  3, CIFAR-10 Batch 5:  Loss:  1.49182\n",
      "Accuracy:  0.4872\n",
      "Epoch  4, CIFAR-10 Batch 1:  Loss:  1.79565\n",
      "Accuracy:  0.4866\n",
      "Epoch  4, CIFAR-10 Batch 2:  Loss:  1.54117\n",
      "Accuracy:  0.5008\n",
      "Epoch  4, CIFAR-10 Batch 3:  Loss:  1.12358\n",
      "Accuracy:  0.499\n",
      "Epoch  4, CIFAR-10 Batch 4:  Loss:  1.39594\n",
      "Accuracy:  0.4968\n",
      "Epoch  4, CIFAR-10 Batch 5:  Loss:  1.36493\n",
      "Accuracy:  0.509\n",
      "Epoch  5, CIFAR-10 Batch 1:  Loss:  1.64873\n",
      "Accuracy:  0.52\n",
      "Epoch  5, CIFAR-10 Batch 2:  Loss:  1.39879\n",
      "Accuracy:  0.5308\n",
      "Epoch  5, CIFAR-10 Batch 3:  Loss:  1.01965\n",
      "Accuracy:  0.5158\n",
      "Epoch  5, CIFAR-10 Batch 4:  Loss:  1.28286\n",
      "Accuracy:  0.5224\n",
      "Epoch  5, CIFAR-10 Batch 5:  Loss:  1.26663\n",
      "Accuracy:  0.5306\n",
      "Epoch  6, CIFAR-10 Batch 1:  Loss:  1.43367\n",
      "Accuracy:  0.5416\n",
      "Epoch  6, CIFAR-10 Batch 2:  Loss:  1.27079\n",
      "Accuracy:  0.5514\n",
      "Epoch  6, CIFAR-10 Batch 3:  Loss:  0.92534\n",
      "Accuracy:  0.5504\n",
      "Epoch  6, CIFAR-10 Batch 4:  Loss:  1.24718\n",
      "Accuracy:  0.5504\n",
      "Epoch  6, CIFAR-10 Batch 5:  Loss:  1.19977\n",
      "Accuracy:  0.5638\n",
      "Epoch  7, CIFAR-10 Batch 1:  Loss:  1.32335\n",
      "Accuracy:  0.5564\n",
      "Epoch  7, CIFAR-10 Batch 2:  Loss:  1.16839\n",
      "Accuracy:  0.569\n",
      "Epoch  7, CIFAR-10 Batch 3:  Loss:  0.871637\n",
      "Accuracy:  0.5742\n",
      "Epoch  7, CIFAR-10 Batch 4:  Loss:  1.21821\n",
      "Accuracy:  0.563\n",
      "Epoch  7, CIFAR-10 Batch 5:  Loss:  1.10868\n",
      "Accuracy:  0.5808\n",
      "Epoch  8, CIFAR-10 Batch 1:  Loss:  1.26624\n",
      "Accuracy:  0.5738\n",
      "Epoch  8, CIFAR-10 Batch 2:  Loss:  1.12798\n",
      "Accuracy:  0.5836\n",
      "Epoch  8, CIFAR-10 Batch 3:  Loss:  0.806992\n",
      "Accuracy:  0.5886\n",
      "Epoch  8, CIFAR-10 Batch 4:  Loss:  1.17232\n",
      "Accuracy:  0.5856\n",
      "Epoch  8, CIFAR-10 Batch 5:  Loss:  1.12666\n",
      "Accuracy:  0.5884\n",
      "Epoch  9, CIFAR-10 Batch 1:  Loss:  1.23689\n",
      "Accuracy:  0.5792\n",
      "Epoch  9, CIFAR-10 Batch 2:  Loss:  1.05566\n",
      "Accuracy:  0.5936\n",
      "Epoch  9, CIFAR-10 Batch 3:  Loss:  0.764551\n",
      "Accuracy:  0.5946\n",
      "Epoch  9, CIFAR-10 Batch 4:  Loss:  1.16123\n",
      "Accuracy:  0.5946\n",
      "Epoch  9, CIFAR-10 Batch 5:  Loss:  1.10367\n",
      "Accuracy:  0.5972\n",
      "Epoch 10, CIFAR-10 Batch 1:  Loss:  1.13817\n",
      "Accuracy:  0.5938\n",
      "Epoch 10, CIFAR-10 Batch 2:  Loss:  0.994483\n",
      "Accuracy:  0.6032\n",
      "Epoch 10, CIFAR-10 Batch 3:  Loss:  0.729569\n",
      "Accuracy:  0.6048\n",
      "Epoch 10, CIFAR-10 Batch 4:  Loss:  1.09475\n",
      "Accuracy:  0.6078\n",
      "Epoch 10, CIFAR-10 Batch 5:  Loss:  1.04709\n",
      "Accuracy:  0.606\n",
      "Epoch 11, CIFAR-10 Batch 1:  Loss:  1.08247\n",
      "Accuracy:  0.602\n",
      "Epoch 11, CIFAR-10 Batch 2:  Loss:  0.966564\n",
      "Accuracy:  0.601\n",
      "Epoch 11, CIFAR-10 Batch 3:  Loss:  0.695367\n",
      "Accuracy:  0.6122\n",
      "Epoch 11, CIFAR-10 Batch 4:  Loss:  1.12183\n",
      "Accuracy:  0.6074\n",
      "Epoch 11, CIFAR-10 Batch 5:  Loss:  0.952715\n",
      "Accuracy:  0.6064\n",
      "Epoch 12, CIFAR-10 Batch 1:  Loss:  1.00307\n",
      "Accuracy:  0.602\n",
      "Epoch 12, CIFAR-10 Batch 2:  Loss:  0.940746\n",
      "Accuracy:  0.6162\n",
      "Epoch 12, CIFAR-10 Batch 3:  Loss:  0.665268\n",
      "Accuracy:  0.6104\n",
      "Epoch 12, CIFAR-10 Batch 4:  Loss:  1.07518\n",
      "Accuracy:  0.6112\n",
      "Epoch 12, CIFAR-10 Batch 5:  Loss:  0.919387\n",
      "Accuracy:  0.6114\n",
      "Epoch 13, CIFAR-10 Batch 1:  Loss:  0.960764\n",
      "Accuracy:  0.6082\n",
      "Epoch 13, CIFAR-10 Batch 2:  Loss:  0.95291\n",
      "Accuracy:  0.615\n",
      "Epoch 13, CIFAR-10 Batch 3:  Loss:  0.655408\n",
      "Accuracy:  0.6146\n",
      "Epoch 13, CIFAR-10 Batch 4:  Loss:  1.01687\n",
      "Accuracy:  0.6088\n",
      "Epoch 13, CIFAR-10 Batch 5:  Loss:  0.920248\n",
      "Accuracy:  0.6216\n",
      "Epoch 14, CIFAR-10 Batch 1:  Loss:  0.934389\n",
      "Accuracy:  0.6068\n",
      "Epoch 14, CIFAR-10 Batch 2:  Loss:  0.848531\n",
      "Accuracy:  0.6156\n",
      "Epoch 14, CIFAR-10 Batch 3:  Loss:  0.646493\n",
      "Accuracy:  0.6246\n",
      "Epoch 14, CIFAR-10 Batch 4:  Loss:  1.00879\n",
      "Accuracy:  0.6188\n",
      "Epoch 14, CIFAR-10 Batch 5:  Loss:  0.862573\n",
      "Accuracy:  0.6132\n",
      "Epoch 15, CIFAR-10 Batch 1:  Loss:  0.852574\n",
      "Accuracy:  0.6182\n",
      "Epoch 15, CIFAR-10 Batch 2:  Loss:  0.843125\n",
      "Accuracy:  0.6222\n",
      "Epoch 15, CIFAR-10 Batch 3:  Loss:  0.636705\n",
      "Accuracy:  0.6222\n",
      "Epoch 15, CIFAR-10 Batch 4:  Loss:  0.997091\n",
      "Accuracy:  0.6162\n",
      "Epoch 15, CIFAR-10 Batch 5:  Loss:  0.842692\n",
      "Accuracy:  0.619\n",
      "Epoch 16, CIFAR-10 Batch 1:  Loss:  0.883733\n",
      "Accuracy:  0.6218\n",
      "Epoch 16, CIFAR-10 Batch 2:  Loss:  0.855042\n",
      "Accuracy:  0.6202\n",
      "Epoch 16, CIFAR-10 Batch 3:  Loss:  0.571773\n",
      "Accuracy:  0.6308\n",
      "Epoch 16, CIFAR-10 Batch 4:  Loss:  0.992454\n",
      "Accuracy:  0.6242\n",
      "Epoch 16, CIFAR-10 Batch 5:  Loss:  0.790523\n",
      "Accuracy:  0.632\n",
      "Epoch 17, CIFAR-10 Batch 1:  Loss:  0.819463\n",
      "Accuracy:  0.6246\n",
      "Epoch 17, CIFAR-10 Batch 2:  Loss:  0.766955\n",
      "Accuracy:  0.6224\n",
      "Epoch 17, CIFAR-10 Batch 3:  Loss:  0.573901\n",
      "Accuracy:  0.628\n",
      "Epoch 17, CIFAR-10 Batch 4:  Loss:  0.939237\n",
      "Accuracy:  0.6172\n",
      "Epoch 17, CIFAR-10 Batch 5:  Loss:  0.75573\n",
      "Accuracy:  0.6266\n",
      "Epoch 18, CIFAR-10 Batch 1:  Loss:  0.803884\n",
      "Accuracy:  0.6228\n",
      "Epoch 18, CIFAR-10 Batch 2:  Loss:  0.784571\n",
      "Accuracy:  0.6304\n",
      "Epoch 18, CIFAR-10 Batch 3:  Loss:  0.592623\n",
      "Accuracy:  0.6322\n",
      "Epoch 18, CIFAR-10 Batch 4:  Loss:  0.949616\n",
      "Accuracy:  0.628\n",
      "Epoch 18, CIFAR-10 Batch 5:  Loss:  0.71181\n",
      "Accuracy:  0.6296\n",
      "Epoch 19, CIFAR-10 Batch 1:  Loss:  0.766594\n",
      "Accuracy:  0.628\n",
      "Epoch 19, CIFAR-10 Batch 2:  Loss:  0.748249\n",
      "Accuracy:  0.6296\n",
      "Epoch 19, CIFAR-10 Batch 3:  Loss:  0.541413\n",
      "Accuracy:  0.6254\n",
      "Epoch 19, CIFAR-10 Batch 4:  Loss:  0.907401\n",
      "Accuracy:  0.617\n",
      "Epoch 19, CIFAR-10 Batch 5:  Loss:  0.738354\n",
      "Accuracy:  0.6314\n",
      "Epoch 20, CIFAR-10 Batch 1:  Loss:  0.752417\n",
      "Accuracy:  0.6272\n",
      "Epoch 20, CIFAR-10 Batch 2:  Loss:  0.72095\n",
      "Accuracy:  0.6274\n",
      "Epoch 20, CIFAR-10 Batch 3:  Loss:  0.517191\n",
      "Accuracy:  0.6326\n",
      "Epoch 20, CIFAR-10 Batch 4:  Loss:  0.850701\n",
      "Accuracy:  0.6184\n",
      "Epoch 20, CIFAR-10 Batch 5:  Loss:  0.718538\n",
      "Accuracy:  0.6322\n",
      "Epoch 21, CIFAR-10 Batch 1:  Loss:  0.693902\n",
      "Accuracy:  0.6288\n",
      "Epoch 21, CIFAR-10 Batch 2:  Loss:  0.704407\n",
      "Accuracy:  0.6404\n",
      "Epoch 21, CIFAR-10 Batch 3:  Loss:  0.497487\n",
      "Accuracy:  0.6446\n",
      "Epoch 21, CIFAR-10 Batch 4:  Loss:  0.837922\n",
      "Accuracy:  0.6208\n",
      "Epoch 21, CIFAR-10 Batch 5:  Loss:  0.632879\n",
      "Accuracy:  0.6296\n",
      "Epoch 22, CIFAR-10 Batch 1:  Loss:  0.69626\n",
      "Accuracy:  0.6296\n",
      "Epoch 22, CIFAR-10 Batch 2:  Loss:  0.672253\n",
      "Accuracy:  0.6388\n",
      "Epoch 22, CIFAR-10 Batch 3:  Loss:  0.513657\n",
      "Accuracy:  0.6366\n",
      "Epoch 22, CIFAR-10 Batch 4:  Loss:  0.807616\n",
      "Accuracy:  0.6234\n",
      "Epoch 22, CIFAR-10 Batch 5:  Loss:  0.58656\n",
      "Accuracy:  0.6352\n",
      "Epoch 23, CIFAR-10 Batch 1:  Loss:  0.651284\n",
      "Accuracy:  0.6338\n",
      "Epoch 23, CIFAR-10 Batch 2:  Loss:  0.694785\n",
      "Accuracy:  0.6308\n",
      "Epoch 23, CIFAR-10 Batch 3:  Loss:  0.47446\n",
      "Accuracy:  0.6358\n",
      "Epoch 23, CIFAR-10 Batch 4:  Loss:  0.798434\n",
      "Accuracy:  0.6226\n",
      "Epoch 23, CIFAR-10 Batch 5:  Loss:  0.651339\n",
      "Accuracy:  0.6342\n",
      "Epoch 24, CIFAR-10 Batch 1:  Loss:  0.647901\n",
      "Accuracy:  0.6338\n",
      "Epoch 24, CIFAR-10 Batch 2:  Loss:  0.661614\n",
      "Accuracy:  0.6268\n",
      "Epoch 24, CIFAR-10 Batch 3:  Loss:  0.487753\n",
      "Accuracy:  0.6364\n",
      "Epoch 24, CIFAR-10 Batch 4:  Loss:  0.767308\n",
      "Accuracy:  0.6294\n",
      "Epoch 24, CIFAR-10 Batch 5:  Loss:  0.522776\n",
      "Accuracy:  0.6406\n",
      "Epoch 25, CIFAR-10 Batch 1:  Loss:  0.60078\n",
      "Accuracy:  0.6334\n",
      "Epoch 25, CIFAR-10 Batch 2:  Loss:  0.631316\n",
      "Accuracy:  0.6312\n",
      "Epoch 25, CIFAR-10 Batch 3:  Loss:  0.452806\n",
      "Accuracy:  0.6396\n",
      "Epoch 25, CIFAR-10 Batch 4:  Loss:  0.788064\n",
      "Accuracy:  0.6174\n",
      "Epoch 25, CIFAR-10 Batch 5:  Loss:  0.503614\n",
      "Accuracy:  0.6424\n",
      "Epoch 26, CIFAR-10 Batch 1:  Loss:  0.663852\n",
      "Accuracy:  0.6296\n",
      "Epoch 26, CIFAR-10 Batch 2:  Loss:  0.646468\n",
      "Accuracy:  0.64\n",
      "Epoch 26, CIFAR-10 Batch 3:  Loss:  0.460318\n",
      "Accuracy:  0.6342\n",
      "Epoch 26, CIFAR-10 Batch 4:  Loss:  0.734872\n",
      "Accuracy:  0.629\n",
      "Epoch 26, CIFAR-10 Batch 5:  Loss:  0.568395\n",
      "Accuracy:  0.6346\n",
      "Epoch 27, CIFAR-10 Batch 1:  Loss:  0.621096\n",
      "Accuracy:  0.6296\n",
      "Epoch 27, CIFAR-10 Batch 2:  Loss:  0.635045\n",
      "Accuracy:  0.6438\n",
      "Epoch 27, CIFAR-10 Batch 3:  Loss:  0.454876\n",
      "Accuracy:  0.6344\n",
      "Epoch 27, CIFAR-10 Batch 4:  Loss:  0.684804\n",
      "Accuracy:  0.6266\n",
      "Epoch 27, CIFAR-10 Batch 5:  Loss:  0.518005\n",
      "Accuracy:  0.6336\n",
      "Epoch 28, CIFAR-10 Batch 1:  Loss:  0.583103\n",
      "Accuracy:  0.6308\n",
      "Epoch 28, CIFAR-10 Batch 2:  Loss:  0.592614\n",
      "Accuracy:  0.6324\n",
      "Epoch 28, CIFAR-10 Batch 3:  Loss:  0.442318\n",
      "Accuracy:  0.6326\n",
      "Epoch 28, CIFAR-10 Batch 4:  Loss:  0.693898\n",
      "Accuracy:  0.6338\n",
      "Epoch 28, CIFAR-10 Batch 5:  Loss:  0.519207\n",
      "Accuracy:  0.629\n",
      "Epoch 29, CIFAR-10 Batch 1:  Loss:  0.634435\n",
      "Accuracy:  0.6194\n",
      "Epoch 29, CIFAR-10 Batch 2:  Loss:  0.624025\n",
      "Accuracy:  0.6384\n",
      "Epoch 29, CIFAR-10 Batch 3:  Loss:  0.436349\n",
      "Accuracy:  0.6296\n",
      "Epoch 29, CIFAR-10 Batch 4:  Loss:  0.667953\n",
      "Accuracy:  0.6288\n",
      "Epoch 29, CIFAR-10 Batch 5:  Loss:  0.460947\n",
      "Accuracy:  0.6364\n",
      "Epoch 30, CIFAR-10 Batch 1:  Loss:  0.597874\n",
      "Accuracy:  0.621\n",
      "Epoch 30, CIFAR-10 Batch 2:  Loss:  0.587814\n",
      "Accuracy:  0.633\n",
      "Epoch 30, CIFAR-10 Batch 3:  Loss:  0.442095\n",
      "Accuracy:  0.634\n",
      "Epoch 30, CIFAR-10 Batch 4:  Loss:  0.636014\n",
      "Accuracy:  0.63\n",
      "Epoch 30, CIFAR-10 Batch 5:  Loss:  0.496478\n",
      "Accuracy:  0.6318\n"
     ]
    }
   ],
   "source": [
    "\"\"\"\n",
    "DON'T MODIFY ANYTHING IN THIS CELL\n",
    "\"\"\"\n",
    "save_model_path = './image_classification'\n",
    "\n",
    "print('Training...')\n",
    "with tf.Session() as sess:\n",
    "    # Initializing the variables\n",
    "    sess.run(tf.global_variables_initializer())\n",
    "    \n",
    "    # Training cycle\n",
    "    for epoch in range(epochs):\n",
    "        # Loop over all batches\n",
    "        n_batches = 5\n",
    "        for batch_i in range(1, n_batches + 1):\n",
    "            for batch_features, batch_labels in helper.load_preprocess_training_batch(batch_i, batch_size):\n",
    "                train_neural_network(sess, optimizer, keep_probability, batch_features, batch_labels)\n",
    "            print('Epoch {:>2}, CIFAR-10 Batch {}:  '.format(epoch + 1, batch_i), end='')\n",
    "            print_stats(sess, batch_features, batch_labels, cost, accuracy)\n",
    "            \n",
    "    # Save Model\n",
    "    saver = tf.train.Saver()\n",
    "    save_path = saver.save(sess, save_model_path)"
   ]
  },
  {
   "cell_type": "markdown",
   "metadata": {
    "deletable": true,
    "editable": true
   },
   "source": [
    "# Checkpoint\n",
    "The model has been saved to disk.\n",
    "## Test Model\n",
    "Test your model against the test dataset.  This will be your final accuracy. You should have an accuracy greater than 50%. If you don't, keep tweaking the model architecture and parameters."
   ]
  },
  {
   "cell_type": "code",
   "execution_count": 120,
   "metadata": {
    "collapsed": false,
    "deletable": true,
    "editable": true
   },
   "outputs": [
    {
     "name": "stdout",
     "output_type": "stream",
     "text": [
      "Testing Accuracy: 0.6284832802547771\n",
      "\n"
     ]
    },
    {
     "data": {
      "image/png": "[encoded data removed]",
      "text/plain": [
       "<matplotlib.figure.Figure at 0x7f929887db38>"
      ]
     },
     "metadata": {
      "image/png": {
       "height": 319,
       "width": 355
      }
     },
     "output_type": "display_data"
    }
   ],
   "source": [
    "\"\"\"\n",
    "DON'T MODIFY ANYTHING IN THIS CELL\n",
    "\"\"\"\n",
    "%matplotlib inline\n",
    "%config InlineBackend.figure_format = 'retina'\n",
    "\n",
    "import tensorflow as tf\n",
    "import pickle\n",
    "import helper\n",
    "import random\n",
    "\n",
    "# Set batch size if not already set\n",
    "try:\n",
    "    if batch_size:\n",
    "        pass\n",
    "except NameError:\n",
    "    batch_size = 64\n",
    "\n",
    "save_model_path = './image_classification'\n",
    "n_samples = 4\n",
    "top_n_predictions = 3\n",
    "\n",
    "def test_model():\n",
    "    \"\"\"\n",
    "    Test the saved model against the test dataset\n",
    "    \"\"\"\n",
    "\n",
    "    test_features, test_labels = pickle.load(open('preprocess_training.p', mode='rb'))\n",
    "    loaded_graph = tf.Graph()\n",
    "\n",
    "    with tf.Session(graph=loaded_graph) as sess:\n",
    "        # Load model\n",
    "        loader = tf.train.import_meta_graph(save_model_path + '.meta')\n",
    "        loader.restore(sess, save_model_path)\n",
    "\n",
    "        # Get Tensors from loaded model\n",
    "        loaded_x = loaded_graph.get_tensor_by_name('x:0')\n",
    "        loaded_y = loaded_graph.get_tensor_by_name('y:0')\n",
    "        loaded_keep_prob = loaded_graph.get_tensor_by_name('keep_prob:0')\n",
    "        loaded_logits = loaded_graph.get_tensor_by_name('logits:0')\n",
    "        loaded_acc = loaded_graph.get_tensor_by_name('accuracy:0')\n",
    "        \n",
    "        # Get accuracy in batches for memory limitations\n",
    "        test_batch_acc_total = 0\n",
    "        test_batch_count = 0\n",
    "        \n",
    "        for train_feature_batch, train_label_batch in helper.batch_features_labels(test_features, test_labels, batch_size):\n",
    "            test_batch_acc_total += sess.run(\n",
    "                loaded_acc,\n",
    "                feed_dict={loaded_x: train_feature_batch, loaded_y: train_label_batch, loaded_keep_prob: 1.0})\n",
    "            test_batch_count += 1\n",
    "\n",
    "        print('Testing Accuracy: {}\\n'.format(test_batch_acc_total/test_batch_count))\n",
    "\n",
    "        # Print Random Samples\n",
    "        random_test_features, random_test_labels = tuple(zip(*random.sample(list(zip(test_features, test_labels)), n_samples)))\n",
    "        random_test_predictions = sess.run(\n",
    "            tf.nn.top_k(tf.nn.softmax(loaded_logits), top_n_predictions),\n",
    "            feed_dict={loaded_x: random_test_features, loaded_y: random_test_labels, loaded_keep_prob: 1.0})\n",
    "        helper.display_image_predictions(random_test_features, random_test_labels, random_test_predictions)\n",
    "\n",
    "\n",
    "test_model()"
   ]
  },
  {
   "cell_type": "markdown",
   "metadata": {
    "deletable": true,
    "editable": true
   },
   "source": [
    "## Why 50-80% Accuracy?\n",
    "You might be wondering why you can't get an accuracy any higher. First things first, 50% isn't bad for a simple CNN.  Pure guessing would get you 10% accuracy. However, you might notice people are getting scores [well above 80%](http://rodrigob.github.io/are_we_there_yet/build/classification_datasets_results.html#43494641522d3130).  That's because we haven't taught you all there is to know about neural networks. We still need to cover a few more techniques.\n",
    "## Submitting This Project\n",
    "When submitting this project, make sure to run all the cells before saving the notebook.  Save the notebook file as \"dlnd_image_classification.ipynb\" and save it as a HTML file under \"File\" -> \"Download as\".  Include the \"helper.py\" and \"problem_unittests.py\" files in your submission."
   ]
  }
 ],
 "metadata": {
  "kernelspec": {
   "display_name": "Python 3",
   "language": "python",
   "name": "python3"
  },
  "language_info": {
   "codemirror_mode": {
    "name": "ipython",
    "version": 3
   },
   "file_extension": ".py",
   "mimetype": "text/x-python",
   "name": "python",
   "nbconvert_exporter": "python",
   "pygments_lexer": "ipython3",
   "version": "3.5.2"
  },
  "widgets": {
   "state": {},
   "version": "1.1.2"
  }
 },
 "nbformat": 4,
 "nbformat_minor": 0
}
